{
 "cells": [
  {
   "cell_type": "code",
   "execution_count": 1,
   "metadata": {},
   "outputs": [],
   "source": [
    "import numpy as np\n",
    "import matplotlib.pyplot as plt\n",
    "import pandas as pd"
   ]
  },
  {
   "cell_type": "code",
   "execution_count": 2,
   "metadata": {},
   "outputs": [],
   "source": [
    "dataset = pd.read_csv('weather_marry_can_or_v5.csv')\n",
    "X = dataset.iloc[:, :-1].values\n",
    "y = dataset.iloc[:, -1].values"
   ]
  },
  {
   "cell_type": "code",
   "execution_count": 3,
   "metadata": {},
   "outputs": [],
   "source": [
    "from sklearn.model_selection import train_test_split\n",
    "X_train, X_test, y_train, y_test = train_test_split(X, y, test_size = 0.25, random_state = 0)"
   ]
  },
  {
   "cell_type": "code",
   "execution_count": 4,
   "metadata": {},
   "outputs": [
    {
     "name": "stdout",
     "output_type": "stream",
     "text": [
      "[[    51  74000]\n",
      " [    18  39000]\n",
      " [    43 150000]\n",
      " [    45  31000]\n",
      " [    45  86000]\n",
      " [    31  61000]\n",
      " [    24  17000]\n",
      " [    41  80000]\n",
      " [    33  32000]\n",
      " [    33  35000]\n",
      " [    29 112000]\n",
      " [    40  20000]\n",
      " [    36  22000]\n",
      " [    47  18000]\n",
      " [    56 117000]\n",
      " [    29  55000]\n",
      " [    10  45000]\n",
      " [    41  81000]\n",
      " [    31  28000]\n",
      " [    53  15000]\n",
      " [    26  84000]\n",
      " [    47  23000]\n",
      " [    32  88000]\n",
      " [    32  32000]\n",
      " [    35  34000]\n",
      " [    27  47000]\n",
      " [    11  72000]\n",
      " [    18 107000]\n",
      " [    39  71000]\n",
      " [    30 118000]\n",
      " [    21  25000]\n",
      " [    53  61000]\n",
      " [    55  18000]\n",
      " [    58  28000]\n",
      " [    48  71000]\n",
      " [    48  82000]\n",
      " [    39  29000]\n",
      " [    17  20000]\n",
      " [    41  85000]\n",
      " [    46  74000]\n",
      " [    28  59000]\n",
      " [    29  87000]\n",
      " [    32  20000]\n",
      " [    29  18000]\n",
      " [    11  59000]\n",
      " [    16 134000]\n",
      " [    52 108000]\n",
      " [    24  65000]\n",
      " [    57  38000]\n",
      " [    55  23000]\n",
      " [    44  36000]\n",
      " [    22  22000]\n",
      " [    20  43000]\n",
      " [    22  66000]\n",
      " [    58 123000]\n",
      " [    58  43000]\n",
      " [    25  15000]\n",
      " [    29  75000]\n",
      " [    40 100000]\n",
      " [    21  79000]\n",
      " [    15  89000]\n",
      " [    22  61000]\n",
      " [    37   2000]\n",
      " [    30  28000]\n",
      " [    24  63000]\n",
      " [    42  83000]\n",
      " [    10 120000]\n",
      " [    10  25000]\n",
      " [    12  17000]\n",
      " [    24  63000]\n",
      " [    46 135000]\n",
      " [    56  54000]\n",
      " [    12  62000]\n",
      " [    22  71000]\n",
      " [    11  86000]\n",
      " [    52  50000]\n",
      " [    23  41000]\n",
      " [    22  27000]\n",
      " [    24  37000]\n",
      " [    11  71000]\n",
      " [    23 101000]\n",
      " [    36  58000]\n",
      " [    39  82000]\n",
      " [    12  88000]\n",
      " [    16  75000]\n",
      " [    29  75000]\n",
      " [    23  28000]\n",
      " [    57  30000]\n",
      " [    19  81000]\n",
      " [    39  47000]\n",
      " [    12  80000]\n",
      " [    14  59000]\n",
      " [    54  59000]\n",
      " [    46  90000]\n",
      " [    43  48000]\n",
      " [    30  83000]\n",
      " [    33  19000]\n",
      " [    22  59000]\n",
      " [    15  86000]\n",
      " [    41  51000]\n",
      " [    12  21000]\n",
      " [    34  31000]\n",
      " [    40  23000]\n",
      " [    22  25000]\n",
      " [    39  49000]\n",
      " [    15  87000]\n",
      " [    52  83000]\n",
      " [    12 135000]\n",
      " [    30  32000]\n",
      " [    43  44000]\n",
      " [    35  30000]\n",
      " [    55  55000]\n",
      " [    37  33000]\n",
      " [    19  15000]\n",
      " [    26  74000]\n",
      " [    13  47000]\n",
      " [    22  65000]\n",
      " [    11  71000]\n",
      " [    55 137000]\n",
      " [    12  55000]\n",
      " [    43  68000]\n",
      " [    25  72000]\n",
      " [    43  96000]\n",
      " [    34  43000]\n",
      " [    53  73000]\n",
      " [    20  42000]\n",
      " [    20  72000]\n",
      " [    33  87000]\n",
      " [    43  80000]\n",
      " [    25  30000]\n",
      " [    57  80000]\n",
      " [    51  27000]\n",
      " [    32  52000]\n",
      " [    20  23000]\n",
      " [    35  69000]\n",
      " [    46  80000]\n",
      " [    16  70000]\n",
      " [    42  43000]\n",
      " [    38  43000]\n",
      " [    12  72000]\n",
      " [    13  79000]\n",
      " [    32  25000]\n",
      " [    13  85000]\n",
      " [    58  68000]\n",
      " [    55  55000]\n",
      " [    12  27000]\n",
      " [    33  22000]\n",
      " [    11  33000]\n",
      " [    46  86000]\n",
      " [    19  89000]\n",
      " [    12  19000]\n",
      " [    30  26000]\n",
      " [    48  75000]\n",
      " [    21  79000]\n",
      " [    13 115000]]\n"
     ]
    }
   ],
   "source": [
    "print(X_train)"
   ]
  },
  {
   "cell_type": "code",
   "execution_count": 5,
   "metadata": {},
   "outputs": [],
   "source": [
    "from sklearn.preprocessing import StandardScaler\n",
    "sc = StandardScaler()\n",
    "X_train = sc.fit_transform(X_train)\n",
    "X_test = sc.transform(X_test)"
   ]
  },
  {
   "cell_type": "code",
   "execution_count": null,
   "metadata": {},
   "outputs": [],
   "source": []
  },
  {
   "cell_type": "code",
   "execution_count": 7,
   "metadata": {},
   "outputs": [
    {
     "data": {
      "text/plain": [
       "KNeighborsClassifier()"
      ]
     },
     "execution_count": 7,
     "metadata": {},
     "output_type": "execute_result"
    }
   ],
   "source": [
    "from sklearn.neighbors import KNeighborsClassifier\n",
    "classifier = KNeighborsClassifier(n_neighbors = 5, metric = 'minkowski', p = 2)\n",
    "classifier.fit(X_train, y_train)"
   ]
  },
  {
   "cell_type": "code",
   "execution_count": 11,
   "metadata": {},
   "outputs": [
    {
     "name": "stdout",
     "output_type": "stream",
     "text": [
      "[0.]\n"
     ]
    }
   ],
   "source": [
    "print(classifier.predict(sc.transform([[10,279000]])))"
   ]
  },
  {
   "cell_type": "code",
   "execution_count": 12,
   "metadata": {},
   "outputs": [
    {
     "name": "stdout",
     "output_type": "stream",
     "text": [
      "[[1. 0.]\n",
      " [0. 1.]\n",
      " [0. 0.]\n",
      " [0. 1.]\n",
      " [1. 1.]\n",
      " [1. 1.]\n",
      " [1. 0.]\n",
      " [1. 0.]\n",
      " [0. 1.]\n",
      " [1. 0.]\n",
      " [1. 1.]\n",
      " [1. 1.]\n",
      " [0. 1.]\n",
      " [1. 1.]\n",
      " [0. 1.]\n",
      " [0. 1.]\n",
      " [1. 0.]\n",
      " [1. 0.]\n",
      " [1. 0.]\n",
      " [1. 1.]\n",
      " [0. 1.]\n",
      " [1. 0.]\n",
      " [1. 1.]\n",
      " [0. 1.]\n",
      " [0. 1.]\n",
      " [1. 1.]\n",
      " [1. 0.]\n",
      " [0. 0.]\n",
      " [1. 1.]\n",
      " [1. 1.]\n",
      " [1. 0.]\n",
      " [0. 1.]\n",
      " [1. 0.]\n",
      " [0. 0.]\n",
      " [0. 1.]\n",
      " [0. 0.]\n",
      " [0. 1.]\n",
      " [1. 0.]\n",
      " [1. 1.]\n",
      " [1. 0.]\n",
      " [1. 0.]\n",
      " [0. 1.]\n",
      " [0. 1.]\n",
      " [1. 0.]\n",
      " [1. 1.]\n",
      " [1. 0.]\n",
      " [0. 0.]\n",
      " [1. 0.]\n",
      " [1. 0.]\n",
      " [1. 1.]\n",
      " [0. 1.]\n",
      " [0. 1.]]\n"
     ]
    }
   ],
   "source": [
    "y_pred = classifier.predict(X_test)\n",
    "print(np.concatenate((y_pred.reshape(len(y_pred),1), y_test.reshape(len(y_test),1)),1))"
   ]
  },
  {
   "cell_type": "code",
   "execution_count": 14,
   "metadata": {},
   "outputs": [
    {
     "name": "stdout",
     "output_type": "stream",
     "text": [
      "[[ 5 18]\n",
      " [16 13]]\n"
     ]
    },
    {
     "data": {
      "text/plain": [
       "0.34615384615384615"
      ]
     },
     "execution_count": 14,
     "metadata": {},
     "output_type": "execute_result"
    }
   ],
   "source": [
    "from sklearn.metrics import confusion_matrix, accuracy_score\n",
    "cm = confusion_matrix(y_test, y_pred)\n",
    "print(cm)\n",
    "accuracy_score(y_test, y_pred)"
   ]
  },
  {
   "cell_type": "markdown",
   "metadata": {},
   "source": [
    "##　大失敗ですね。先程の、"
   ]
  },
  {
   "cell_type": "code",
   "execution_count": 15,
   "metadata": {},
   "outputs": [
    {
     "name": "stderr",
     "output_type": "stream",
     "text": [
      "*c* argument looks like a single numeric RGB or RGBA sequence, which should be avoided as value-mapping will have precedence in case its length matches with *x* & *y*.  Please use the *color* keyword-argument or provide a 2-D array with a single row if you intend to specify the same RGB or RGBA value for all points.\n",
      "*c* argument looks like a single numeric RGB or RGBA sequence, which should be avoided as value-mapping will have precedence in case its length matches with *x* & *y*.  Please use the *color* keyword-argument or provide a 2-D array with a single row if you intend to specify the same RGB or RGBA value for all points.\n"
     ]
    },
    {
     "data": {
      "image/png": "[encoded data removed]",
      "text/plain": [
       "<Figure size 432x288 with 1 Axes>"
      ]
     },
     "metadata": {
      "needs_background": "light"
     },
     "output_type": "display_data"
    }
   ],
   "source": [
    "from matplotlib.colors import ListedColormap\n",
    "X_set, y_set = sc.inverse_transform(X_train), y_train\n",
    "X1, X2 = np.meshgrid(np.arange(start = X_set[:, 0].min() - 10, stop = X_set[:, 0].max() + 10, step = 1),\n",
    "                     np.arange(start = X_set[:, 1].min() - 1000, stop = X_set[:, 1].max() + 1000, step = 1))\n",
    "plt.contourf(X1, X2, classifier.predict(sc.transform(np.array([X1.ravel(), X2.ravel()]).T)).reshape(X1.shape),\n",
    "             alpha = 0.75, cmap = ListedColormap(('red', 'green')))\n",
    "plt.xlim(X1.min(), X1.max())\n",
    "plt.ylim(X2.min(), X2.max())\n",
    "for i, j in enumerate(np.unique(y_set)):\n",
    "    plt.scatter(X_set[y_set == j, 0], X_set[y_set == j, 1], c = ListedColormap(('red', 'green'))(i), label = j)\n",
    "plt.title('K-NN (Training set)')\n",
    "plt.xlabel('Age')\n",
    "plt.ylabel('Estimated Salary')\n",
    "plt.legend()\n",
    "plt.show()"
   ]
  },
  {
   "cell_type": "code",
   "execution_count": null,
   "metadata": {},
   "outputs": [],
   "source": []
  }
 ],
 "metadata": {
  "kernelspec": {
   "display_name": "Python 3",
   "language": "python",
   "name": "python3"
  },
  "language_info": {
   "codemirror_mode": {
    "name": "ipython",
    "version": 3
   },
   "file_extension": ".py",
   "mimetype": "text/x-python",
   "name": "python",
   "nbconvert_exporter": "python",
   "pygments_lexer": "ipython3",
   "version": "3.8.5"
  }
 },
 "nbformat": 4,
 "nbformat_minor": 4
}
